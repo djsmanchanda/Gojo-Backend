{
 "cells": [
  {
   "cell_type": "code",
   "execution_count": 12,
   "metadata": {},
   "outputs": [],
   "source": [
    "import cv2\n",
    "import matplotlib.pyplot as plt\n",
    "from flask import *\n",
    "from pyngrok import ngrok\n",
    "import json\n",
    "import io\n",
    "import base64\n",
    "import numpy as np\n",
    "import requests\n",
    "from PIL import Image, ImageDraw, ImageFont\n",
    "from roboflow import Roboflow\n",
    "import ultralytics\n",
    "from flask_cors import CORS"
   ]
  },
  {
   "cell_type": "code",
   "execution_count": 14,
   "metadata": {},
   "outputs": [],
   "source": [
    "port_no = 3030\n",
    "from flask_cors import CORS"
   ]
  },
  {
   "cell_type": "code",
   "execution_count": 13,
   "metadata": {},
   "outputs": [],
   "source": [
    "import cv2\n",
    "\n",
    "def highlight_regions(image_path, results):\n",
    "    # Assuming 'results' is an ultralytics.engine.results.Results object\n",
    "    # Get the original image\n",
    "    image = cv2.imread(image_path)\n",
    "\n",
    "    # Get the detected boxes in [x1, y1, x2, y2] format\n",
    "    boxes = results.boxes.xyxy\n",
    "\n",
    "    # Get the confidence scores for each box\n",
    "    confidences = results.boxes.conf\n",
    "\n",
    "    # Get the class labels for each box\n",
    "    class_labels = results.boxes.cls\n",
    "\n",
    "    # Iterate over the detected boxes and highlight regions\n",
    "    for box, conf, cls in zip(boxes, confidences, class_labels):\n",
    "        x1, y1, x2, y2 = map(int, box)\n",
    "        cv2.rectangle(image, (x1, y1), (x2, y2), (0, 255, 0), 2)\n",
    "        \n",
    "        class_name = results.names[int(cls)]\n",
    "        label = f\"{class_name} ({conf:.2f})\"\n",
    "        \n",
    "        font = cv2.FONT_HERSHEY_SIMPLEX\n",
    "        cv2.putText(image, label, (x1, y1 - 10), font, 0.75, (0, 255, 0), 1, cv2.LINE_AA)\n",
    "\n",
    "    return image"
   ]
  },
  {
   "cell_type": "code",
   "execution_count": 16,
   "metadata": {},
   "outputs": [
    {
     "name": "stdout",
     "output_type": "stream",
     "text": [
      " * Serving Flask app '__main__'\n",
      " * Debug mode: off\n"
     ]
    },
    {
     "name": "stderr",
     "output_type": "stream",
     "text": [
      "WARNING: This is a development server. Do not use it in a production deployment. Use a production WSGI server instead.\n",
      " * Running on http://127.0.0.1:3030\n",
      "Press CTRL+C to quit\n",
      "127.0.0.1 - - [20/Apr/2024 08:47:46] \"GET / HTTP/1.1\" 404 -\n",
      "127.0.0.1 - - [20/Apr/2024 08:51:14] \"POST /?api_key=MDUmhShkcQTpnD7H6ZtL HTTP/1.1\" 404 -\n",
      "127.0.0.1 - - [20/Apr/2024 08:51:43] \"POST /?api_key=MDUmhShkcQTpnD7H6ZtL HTTP/1.1\" 404 -\n",
      "127.0.0.1 - - [20/Apr/2024 08:52:17] \"POST /alzhimer?api_key=MDUmhShkcQTpnD7H6ZtL HTTP/1.1\" 200 -\n"
     ]
    },
    {
     "name": "stdout",
     "output_type": "stream",
     "text": [
      "415 Unsupported Media Type: Did not attempt to load JSON data because the request Content-Type was not 'application/json'.\n"
     ]
    }
   ],
   "source": [
    "\n",
    "port_no = 3030\n",
    "CORS(app, resources={r\"/*\": {\"origins\": \"*\"}})\n",
    "\n",
    "app = Flask(__name__)\n",
    "\n",
    "@app.route(\"/alzhimer\", methods=[\"POST\"])\n",
    "def decode_base64_and_display_alzhimer():\n",
    "    try:\n",
    "        data = request.json\n",
    "        base64_string = data[\"base64\"]\n",
    "        disease_name = data[\"disease\"]\n",
    "        \n",
    "        decoded_data = pybase64.b64decode(base64_string)\n",
    "        image = Image.open(io.BytesIO(decoded_data))\n",
    "        temp_file_path = \"C:\\\\Users\\\\djsma\\\\Downloads\\\\temp_image.jpg\"\n",
    "        image.save(temp_file_path)\n",
    "        \n",
    "        # Load the trained YOLOv8 model\n",
    "        model = YOLO('C:/Users/djsma/Downloads/Github_Desktop/Gojo-Backend/runs/detect/train4/weights/best.pt')\n",
    "        \n",
    "        # Perform prediction on the uploaded image\n",
    "        results = model.predict(source=temp_file_path, save=True)\n",
    "        \n",
    "        # Assuming 'results' is a list containing a single ultralytics.engine.results.Results object\n",
    "        result = results[0]\n",
    "        \n",
    "        # Highlight regions and save the image\n",
    "        highlighted_image = highlight_regions(temp_file_path, result)\n",
    "        cv2.imwrite(\"C:\\\\Users\\\\djsma\\\\Downloads\\\\highlighted_image.jpg\", highlighted_image)\n",
    "        \n",
    "        # Convert the highlighted image to base64\n",
    "        image_with_rectangle = Image.fromarray(cv2.cvtColor(highlighted_image, cv2.COLOR_BGR2RGB))\n",
    "        buffered = io.BytesIO()\n",
    "        image_with_rectangle.save(buffered, format='jpeg')\n",
    "        final_base64_string = base64.b64encode(buffered.getvalue()).decode()\n",
    "        \n",
    "        # Prepare the inference result\n",
    "        inference = 'This is from the IoT device'\n",
    "        \n",
    "        return jsonify({\n",
    "            \"base64\": final_base64_string,\n",
    "            \"inference\": inference\n",
    "        })\n",
    "    except Exception as e:\n",
    "        print(e)\n",
    "        return jsonify({\n",
    "            \"status\": \"Something went wrong\"\n",
    "        })\n",
    "\n",
    "app.run(port=port_no)"
   ]
  },
  {
   "cell_type": "code",
   "execution_count": null,
   "metadata": {},
   "outputs": [],
   "source": []
  }
 ],
 "metadata": {
  "kernelspec": {
   "display_name": "Python 3",
   "language": "python",
   "name": "python3"
  },
  "language_info": {
   "codemirror_mode": {
    "name": "ipython",
    "version": 3
   },
   "file_extension": ".py",
   "mimetype": "text/x-python",
   "name": "python",
   "nbconvert_exporter": "python",
   "pygments_lexer": "ipython3",
   "version": "3.12.1"
  }
 },
 "nbformat": 4,
 "nbformat_minor": 2
}
