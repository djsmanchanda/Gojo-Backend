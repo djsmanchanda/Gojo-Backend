{
 "cells": [
  {
   "cell_type": "code",
   "execution_count": 1,
   "metadata": {},
   "outputs": [],
   "source": [
    "import cv2\n",
    "import matplotlib.pyplot as plt\n",
    "from flask import *\n",
    "from pyngrok import ngrok\n",
    "import json\n",
    "import io\n",
    "import base64\n",
    "import numpy as np\n",
    "import requests\n",
    "from PIL import Image, ImageDraw, ImageFont\n",
    "from roboflow import Roboflow\n",
    "import ultralytics\n",
    "from flask_cors import CORS"
   ]
  },
  {
   "cell_type": "code",
   "execution_count": 2,
   "metadata": {},
   "outputs": [],
   "source": [
    "port_no = 3030\n",
    "from flask_cors import CORS"
   ]
  },
  {
   "cell_type": "code",
   "execution_count": 3,
   "metadata": {},
   "outputs": [],
   "source": [
    "import cv2\n",
    "\n",
    "def highlight_regions(image_path, results):\n",
    "    # Assuming 'results' is an ultralytics.engine.results.Results object\n",
    "    # Get the original image\n",
    "    image = cv2.imread(image_path)\n",
    "\n",
    "    # Get the detected boxes in [x1, y1, x2, y2] format\n",
    "    boxes = results.boxes.xyxy\n",
    "\n",
    "    # Get the confidence scores for each box\n",
    "    confidences = results.boxes.conf\n",
    "\n",
    "    # Get the class labels for each box\n",
    "    class_labels = results.boxes.cls\n",
    "\n",
    "    # Iterate over the detected boxes and highlight regions\n",
    "    for box, conf, cls in zip(boxes, confidences, class_labels):\n",
    "        x1, y1, x2, y2 = map(int, box)\n",
    "        cv2.rectangle(image, (x1, y1), (x2, y2), (0, 255, 0), 2)\n",
    "        \n",
    "        class_name = results.names[int(cls)]\n",
    "        label = f\"{class_name} ({conf:.2f})\"\n",
    "        \n",
    "        font = cv2.FONT_HERSHEY_SIMPLEX\n",
    "        cv2.putText(image, label, (x1, y1 - 10), font, 0.75, (0, 255, 0), 1, cv2.LINE_AA)\n",
    "\n",
    "    return image"
   ]
  },
  {
   "cell_type": "code",
   "execution_count": 4,
   "metadata": {},
   "outputs": [
    {
     "ename": "AttributeError",
     "evalue": "module 'flask.app' has no attribute 'after_request'",
     "output_type": "error",
     "traceback": [
      "\u001b[1;31m---------------------------------------------------------------------------\u001b[0m",
      "\u001b[1;31mAttributeError\u001b[0m                            Traceback (most recent call last)",
      "Cell \u001b[1;32mIn[4], line 2\u001b[0m\n\u001b[0;32m      1\u001b[0m port_no \u001b[38;5;241m=\u001b[39m \u001b[38;5;241m3030\u001b[39m\n\u001b[1;32m----> 2\u001b[0m \u001b[43mCORS\u001b[49m\u001b[43m(\u001b[49m\u001b[43mapp\u001b[49m\u001b[43m,\u001b[49m\u001b[43m \u001b[49m\u001b[43mresources\u001b[49m\u001b[38;5;241;43m=\u001b[39;49m\u001b[43m{\u001b[49m\u001b[38;5;124;43mr\u001b[39;49m\u001b[38;5;124;43m\"\u001b[39;49m\u001b[38;5;124;43m/*\u001b[39;49m\u001b[38;5;124;43m\"\u001b[39;49m\u001b[43m:\u001b[49m\u001b[43m \u001b[49m\u001b[43m{\u001b[49m\u001b[38;5;124;43m\"\u001b[39;49m\u001b[38;5;124;43morigins\u001b[39;49m\u001b[38;5;124;43m\"\u001b[39;49m\u001b[43m:\u001b[49m\u001b[43m \u001b[49m\u001b[38;5;124;43m\"\u001b[39;49m\u001b[38;5;124;43m*\u001b[39;49m\u001b[38;5;124;43m\"\u001b[39;49m\u001b[43m}\u001b[49m\u001b[43m}\u001b[49m\u001b[43m)\u001b[49m\n\u001b[0;32m      4\u001b[0m app \u001b[38;5;241m=\u001b[39m Flask(\u001b[38;5;18m__name__\u001b[39m)\n\u001b[0;32m      6\u001b[0m \u001b[38;5;129m@app\u001b[39m\u001b[38;5;241m.\u001b[39mroute(\u001b[38;5;124m\"\u001b[39m\u001b[38;5;124m/alzhimer\u001b[39m\u001b[38;5;124m\"\u001b[39m, methods\u001b[38;5;241m=\u001b[39m[\u001b[38;5;124m\"\u001b[39m\u001b[38;5;124mPOST\u001b[39m\u001b[38;5;124m\"\u001b[39m])\n\u001b[0;32m      7\u001b[0m \u001b[38;5;28;01mdef\u001b[39;00m \u001b[38;5;21mdecode_base64_and_display_alzhimer\u001b[39m():\n",
      "File \u001b[1;32m~\\AppData\\Roaming\\Python\\Python312\\site-packages\\flask_cors\\extension.py:144\u001b[0m, in \u001b[0;36mCORS.__init__\u001b[1;34m(self, app, **kwargs)\u001b[0m\n\u001b[0;32m    142\u001b[0m \u001b[38;5;28mself\u001b[39m\u001b[38;5;241m.\u001b[39m_options \u001b[38;5;241m=\u001b[39m kwargs\n\u001b[0;32m    143\u001b[0m \u001b[38;5;28;01mif\u001b[39;00m app \u001b[38;5;129;01mis\u001b[39;00m \u001b[38;5;129;01mnot\u001b[39;00m \u001b[38;5;28;01mNone\u001b[39;00m:\n\u001b[1;32m--> 144\u001b[0m     \u001b[38;5;28;43mself\u001b[39;49m\u001b[38;5;241;43m.\u001b[39;49m\u001b[43minit_app\u001b[49m\u001b[43m(\u001b[49m\u001b[43mapp\u001b[49m\u001b[43m,\u001b[49m\u001b[43m \u001b[49m\u001b[38;5;241;43m*\u001b[39;49m\u001b[38;5;241;43m*\u001b[39;49m\u001b[43mkwargs\u001b[49m\u001b[43m)\u001b[49m\n",
      "File \u001b[1;32m~\\AppData\\Roaming\\Python\\Python312\\site-packages\\flask_cors\\extension.py:169\u001b[0m, in \u001b[0;36mCORS.init_app\u001b[1;34m(self, app, **kwargs)\u001b[0m\n\u001b[0;32m    166\u001b[0m LOG\u001b[38;5;241m.\u001b[39mdebug(\u001b[38;5;124m\"\u001b[39m\u001b[38;5;124mConfiguring CORS with resources: \u001b[39m\u001b[38;5;132;01m%s\u001b[39;00m\u001b[38;5;124m\"\u001b[39m, resources_human)\n\u001b[0;32m    168\u001b[0m cors_after_request \u001b[38;5;241m=\u001b[39m make_after_request_function(resources)\n\u001b[1;32m--> 169\u001b[0m \u001b[43mapp\u001b[49m\u001b[38;5;241;43m.\u001b[39;49m\u001b[43mafter_request\u001b[49m(cors_after_request)\n\u001b[0;32m    171\u001b[0m \u001b[38;5;66;03m# Wrap exception handlers with cross_origin\u001b[39;00m\n\u001b[0;32m    172\u001b[0m \u001b[38;5;66;03m# These error handlers will still respect the behavior of the route\u001b[39;00m\n\u001b[0;32m    173\u001b[0m \u001b[38;5;28;01mif\u001b[39;00m options\u001b[38;5;241m.\u001b[39mget(\u001b[38;5;124m'\u001b[39m\u001b[38;5;124mintercept_exceptions\u001b[39m\u001b[38;5;124m'\u001b[39m, \u001b[38;5;28;01mTrue\u001b[39;00m):\n",
      "\u001b[1;31mAttributeError\u001b[0m: module 'flask.app' has no attribute 'after_request'"
     ]
    }
   ],
   "source": [
    "\n",
    "port_no = 3030\n",
    "CORS(app, resources={r\"/*\": {\"origins\": \"*\"}})\n",
    "\n",
    "app = Flask(__name__)\n",
    "\n",
    "@app.route(\"/alzhimer\", methods=[\"POST\"])\n",
    "def decode_base64_and_display_alzhimer():\n",
    "    try:\n",
    "        data = request.json\n",
    "        base64_string = data[\"base64\"]\n",
    "        disease_name = data[\"disease\"]\n",
    "        \n",
    "        decoded_data = pybase64.b64decode(base64_string)\n",
    "        image = Image.open(io.BytesIO(decoded_data))\n",
    "        temp_file_path = \"C:\\\\Users\\\\djsma\\\\Downloads\\\\temp_image.jpg\"\n",
    "        image.save(temp_file_path)\n",
    "        \n",
    "        # Load the trained YOLOv8 model\n",
    "        model = YOLO('C:/Users/djsma/Downloads/Github_Desktop/Gojo-Backend/runs/detect/train4/weights/best.pt')\n",
    "        \n",
    "        # Perform prediction on the uploaded image\n",
    "        results = model.predict(source=temp_file_path, save=True)\n",
    "        \n",
    "        # Assuming 'results' is a list containing a single ultralytics.engine.results.Results object\n",
    "        result = results[0]\n",
    "        \n",
    "        # Highlight regions and save the image\n",
    "        highlighted_image = highlight_regions(temp_file_path, result)\n",
    "        cv2.imwrite(\"C:\\\\Users\\\\djsma\\\\Downloads\\\\highlighted_image.jpg\", highlighted_image)\n",
    "        \n",
    "        # Convert the highlighted image to base64\n",
    "        image_with_rectangle = Image.fromarray(cv2.cvtColor(highlighted_image, cv2.COLOR_BGR2RGB))\n",
    "        buffered = io.BytesIO()\n",
    "        image_with_rectangle.save(buffered, format='jpeg')\n",
    "        final_base64_string = base64.b64encode(buffered.getvalue()).decode()\n",
    "        \n",
    "        # Prepare the inference result\n",
    "        inference = 'This is from the IoT device'\n",
    "        \n",
    "        return jsonify({\n",
    "            \"base64\": final_base64_string,\n",
    "            \"inference\": inference\n",
    "        })\n",
    "    except Exception as e:\n",
    "        print(e)\n",
    "        return jsonify({\n",
    "            \"status\": \"Something went wrong\"\n",
    "        })\n",
    "\n",
    "app.run(port=port_no)"
   ]
  },
  {
   "cell_type": "code",
   "execution_count": null,
   "metadata": {},
   "outputs": [],
   "source": []
  }
 ],
 "metadata": {
  "kernelspec": {
   "display_name": "Python 3",
   "language": "python",
   "name": "python3"
  },
  "language_info": {
   "codemirror_mode": {
    "name": "ipython",
    "version": 3
   },
   "file_extension": ".py",
   "mimetype": "text/x-python",
   "name": "python",
   "nbconvert_exporter": "python",
   "pygments_lexer": "ipython3",
   "version": "3.12.1"
  }
 },
 "nbformat": 4,
 "nbformat_minor": 2
}
