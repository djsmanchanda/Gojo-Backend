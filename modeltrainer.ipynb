{
 "cells": [
  {
   "cell_type": "code",
   "execution_count": 1,
   "metadata": {},
   "outputs": [],
   "source": [
    "import ultralytics"
   ]
  },
  {
   "cell_type": "code",
   "execution_count": 2,
   "metadata": {},
   "outputs": [
    {
     "name": "stdout",
     "output_type": "stream",
     "text": [
      "Ultralytics YOLOv8.2.2  Python-3.12.1 torch-2.2.2+cu121 CUDA:0 (NVIDIA GeForce RTX 4060 Laptop GPU, 8188MiB)\n",
      "Setup complete  (20 CPUs, 39.7 GB RAM, 819.8/953.0 GB disk)\n"
     ]
    }
   ],
   "source": [
    "ultralytics.checks()"
   ]
  },
  {
   "cell_type": "code",
   "execution_count": 3,
   "metadata": {},
   "outputs": [],
   "source": [
    "from ultralytics import YOLO"
   ]
  },
  {
   "cell_type": "code",
   "execution_count": 4,
   "metadata": {},
   "outputs": [
    {
     "name": "stdout",
     "output_type": "stream",
     "text": [
      "Requirement already satisfied: roboflow in c:\\python312\\lib\\site-packages (1.1.27)\n",
      "Requirement already satisfied: certifi==2023.7.22 in c:\\python312\\lib\\site-packages (from roboflow) (2023.7.22)\n",
      "Requirement already satisfied: chardet==4.0.0 in c:\\python312\\lib\\site-packages (from roboflow) (4.0.0)\n",
      "Requirement already satisfied: cycler==0.10.0 in c:\\python312\\lib\\site-packages (from roboflow) (0.10.0)\n",
      "Requirement already satisfied: idna==2.10 in c:\\python312\\lib\\site-packages (from roboflow) (2.10)\n",
      "Requirement already satisfied: kiwisolver>=1.3.1 in c:\\users\\djsma\\appdata\\roaming\\python\\python312\\site-packages (from roboflow) (1.4.5)\n",
      "Requirement already satisfied: matplotlib in c:\\users\\djsma\\appdata\\roaming\\python\\python312\\site-packages (from roboflow) (3.8.4)\n",
      "Requirement already satisfied: numpy>=1.18.5 in c:\\users\\djsma\\appdata\\roaming\\python\\python312\\site-packages (from roboflow) (1.26.4)\n",
      "Requirement already satisfied: opencv-python-headless==4.8.0.74 in c:\\python312\\lib\\site-packages (from roboflow) (4.8.0.74)\n",
      "Requirement already satisfied: Pillow>=7.1.2 in c:\\users\\djsma\\appdata\\roaming\\python\\python312\\site-packages (from roboflow) (10.3.0)\n",
      "Requirement already satisfied: python-dateutil in c:\\python312\\lib\\site-packages (from roboflow) (2.8.2)\n",
      "Requirement already satisfied: python-dotenv in c:\\python312\\lib\\site-packages (from roboflow) (1.0.1)\n",
      "Requirement already satisfied: requests in c:\\users\\djsma\\appdata\\roaming\\python\\python312\\site-packages (from roboflow) (2.31.0)\n",
      "Requirement already satisfied: six in c:\\python312\\lib\\site-packages (from roboflow) (1.16.0)\n",
      "Requirement already satisfied: urllib3>=1.26.6 in c:\\python312\\lib\\site-packages (from roboflow) (2.0.7)\n",
      "Requirement already satisfied: tqdm>=4.41.0 in c:\\python312\\lib\\site-packages (from roboflow) (4.66.2)\n",
      "Requirement already satisfied: PyYAML>=5.3.1 in c:\\python312\\lib\\site-packages (from roboflow) (6.0.1)\n",
      "Requirement already satisfied: requests-toolbelt in c:\\python312\\lib\\site-packages (from roboflow) (1.0.0)\n",
      "Requirement already satisfied: python-magic in c:\\python312\\lib\\site-packages (from roboflow) (0.4.27)\n",
      "Requirement already satisfied: colorama in c:\\python312\\lib\\site-packages (from tqdm>=4.41.0->roboflow) (0.4.6)\n",
      "Requirement already satisfied: contourpy>=1.0.1 in c:\\users\\djsma\\appdata\\roaming\\python\\python312\\site-packages (from matplotlib->roboflow) (1.2.1)\n",
      "Requirement already satisfied: fonttools>=4.22.0 in c:\\users\\djsma\\appdata\\roaming\\python\\python312\\site-packages (from matplotlib->roboflow) (4.51.0)\n",
      "Requirement already satisfied: packaging>=20.0 in c:\\python312\\lib\\site-packages (from matplotlib->roboflow) (23.2)\n",
      "Requirement already satisfied: pyparsing>=2.3.1 in c:\\users\\djsma\\appdata\\roaming\\python\\python312\\site-packages (from matplotlib->roboflow) (3.1.2)\n",
      "Requirement already satisfied: charset-normalizer<4,>=2 in c:\\users\\djsma\\appdata\\roaming\\python\\python312\\site-packages (from requests->roboflow) (3.3.2)\n"
     ]
    }
   ],
   "source": [
    "!pip install roboflow\n",
    "from roboflow import Roboflow"
   ]
  },
  {
   "cell_type": "code",
   "execution_count": 5,
   "metadata": {},
   "outputs": [
    {
     "name": "stdout",
     "output_type": "stream",
     "text": [
      "loading Roboflow workspace...\n",
      "loading Roboflow project...\n"
     ]
    }
   ],
   "source": [
    "rf = Roboflow(api_key=\"ZFnjm2DmKTV1Db89nUPS\")\n",
    "project = rf.workspace(\"abcd-03yre\").project(\"alzheimer-detection-synapse-29dth\")\n",
    "version = project.version(2)\n",
    "dataset = version.download(\"yolov5\")"
   ]
  },
  {
   "cell_type": "code",
   "execution_count": 6,
   "metadata": {},
   "outputs": [
    {
     "name": "stdout",
     "output_type": "stream",
     "text": [
      "c:\\Users\\djsma\\Downloads\\Github_Desktop\\Gojo-Backend\\Alzheimer-Detection-Synapse-2\n"
     ]
    }
   ],
   "source": [
    "print(dataset.location)"
   ]
  },
  {
   "cell_type": "code",
   "execution_count": 7,
   "metadata": {},
   "outputs": [
    {
     "name": "stdout",
     "output_type": "stream",
     "text": [
      "Requirement already satisfied: pybase64 in c:\\python312\\lib\\site-packages (1.3.2)\n"
     ]
    }
   ],
   "source": [
    "!pip install pybase64 --user\n"
   ]
  },
  {
   "cell_type": "code",
   "execution_count": 8,
   "metadata": {},
   "outputs": [],
   "source": [
    "!yolo task=detect mode=train model=yolov8s.pt data={dataset.location}/data.yaml epochs=400 imgsz=640 plots=True"
   ]
  },
  {
   "cell_type": "code",
   "execution_count": 13,
   "metadata": {},
   "outputs": [],
   "source": [
    "model = YOLO('C:/Users/djsma/Downloads/Github_Desktop/Gojo-Backend/runs/detect/train4/weights/best.pt')"
   ]
  },
  {
   "cell_type": "code",
   "execution_count": null,
   "metadata": {},
   "outputs": [],
   "source": [
    "def predict(image_path):\n",
    "    results = model(source=image_path,)\n",
    "    return results"
   ]
  },
  {
   "cell_type": "code",
   "execution_count": 34,
   "metadata": {},
   "outputs": [
    {
     "name": "stdout",
     "output_type": "stream",
     "text": [
      "\n",
      "image 1/1 C:\\Users\\djsma\\Downloads\\Github_Desktop\\Gojo-Backend\\Alzheimer-Detection-Synapse-2\\train\\images\\ADNI_002_S_6103_MR_Axial_T2_STAR__br_raw_20171128103507245_22_S638319_I938770_jpg.rf.f4947c1771d7af019f4051f072bead73.jpg: 640x640 2 MCIs, 58.4ms\n",
      "Speed: 5.0ms preprocess, 58.4ms inference, 90.9ms postprocess per image at shape (1, 3, 640, 640)\n",
      "Results saved to \u001b[1mruns\\detect\\predict\u001b[0m\n"
     ]
    }
   ],
   "source": [
    "results = model.predict(source='C:/Users/djsma/Downloads/Github_Desktop/Gojo-Backend/Alzheimer-Detection-Synapse-2/train/images/ADNI_002_S_6103_MR_Axial_T2_STAR__br_raw_20171128103507245_22_S638319_I938770_jpg.rf.f4947c1771d7af019f4051f072bead73.jpg', save=True)"
   ]
  },
  {
   "cell_type": "code",
   "execution_count": 35,
   "metadata": {},
   "outputs": [
    {
     "name": "stdout",
     "output_type": "stream",
     "text": [
      "[ultralytics.engine.results.Results object with attributes:\n",
      "\n",
      "boxes: ultralytics.engine.results.Boxes object\n",
      "keypoints: None\n",
      "masks: None\n",
      "names: {0: 'CN', 1: 'EMCI', 2: 'LMCI', 3: 'MCI'}\n",
      "obb: None\n",
      "orig_img: array([[[40, 40, 40],\n",
      "        [40, 40, 40],\n",
      "        [40, 40, 40],\n",
      "        ...,\n",
      "        [40, 40, 40],\n",
      "        [40, 40, 40],\n",
      "        [40, 40, 40]],\n",
      "\n",
      "       [[40, 40, 40],\n",
      "        [40, 40, 40],\n",
      "        [40, 40, 40],\n",
      "        ...,\n",
      "        [40, 40, 40],\n",
      "        [40, 40, 40],\n",
      "        [40, 40, 40]],\n",
      "\n",
      "       [[40, 40, 40],\n",
      "        [40, 40, 40],\n",
      "        [40, 40, 40],\n",
      "        ...,\n",
      "        [40, 40, 40],\n",
      "        [40, 40, 40],\n",
      "        [40, 40, 40]],\n",
      "\n",
      "       ...,\n",
      "\n",
      "       [[40, 40, 40],\n",
      "        [40, 40, 40],\n",
      "        [40, 40, 40],\n",
      "        ...,\n",
      "        [40, 40, 40],\n",
      "        [40, 40, 40],\n",
      "        [40, 40, 40]],\n",
      "\n",
      "       [[40, 40, 40],\n",
      "        [40, 40, 40],\n",
      "        [40, 40, 40],\n",
      "        ...,\n",
      "        [40, 40, 40],\n",
      "        [40, 40, 40],\n",
      "        [40, 40, 40]],\n",
      "\n",
      "       [[40, 40, 40],\n",
      "        [40, 40, 40],\n",
      "        [40, 40, 40],\n",
      "        ...,\n",
      "        [40, 40, 40],\n",
      "        [40, 40, 40],\n",
      "        [40, 40, 40]]], dtype=uint8)\n",
      "orig_shape: (640, 640)\n",
      "path: 'C:\\\\Users\\\\djsma\\\\Downloads\\\\Github_Desktop\\\\Gojo-Backend\\\\Alzheimer-Detection-Synapse-2\\\\train\\\\images\\\\ADNI_002_S_6103_MR_Axial_T2_STAR__br_raw_20171128103507245_22_S638319_I938770_jpg.rf.f4947c1771d7af019f4051f072bead73.jpg'\n",
      "probs: None\n",
      "save_dir: 'runs\\\\detect\\\\predict'\n",
      "speed: {'preprocess': 4.99725341796875, 'inference': 58.37583541870117, 'postprocess': 90.93379974365234}]\n"
     ]
    }
   ],
   "source": [
    "print(results)"
   ]
  },
  {
   "cell_type": "code",
   "execution_count": 37,
   "metadata": {},
   "outputs": [
    {
     "name": "stdout",
     "output_type": "stream",
     "text": [
      "Box: tensor([423.5185, 399.3250, 485.0186, 501.3751], device='cuda:0')\n",
      "Confidence: 0.9130551218986511\n",
      "Class Label: 3.0\n",
      "---\n",
      "Box: tensor([233.8287, 388.6546, 326.0921, 478.7025], device='cuda:0')\n",
      "Confidence: 0.8972544074058533\n",
      "Class Label: 3.0\n",
      "---\n"
     ]
    }
   ],
   "source": [
    "# Assuming 'results' is a list containing ultralytics.engine.results.Results objects\n",
    "\n",
    "# Get the first Results object from the list\n",
    "result = results[0]\n",
    "\n",
    "# Get the detected boxes in [x1, y1, x2, y2] format\n",
    "boxes = result.boxes.xyxy\n",
    "# Get the confidence scores for each box\n",
    "confidences = result.boxes.conf\n",
    "# Get the class labels for each box\n",
    "class_labels = result.boxes.cls\n",
    "# Get the normalized boxes in [x, y, width, height] format\n",
    "normalized_boxes = result.boxes.xywhn\n",
    "\n",
    "# Iterate over the detected boxes and print the information\n",
    "for box, conf, cls in zip(boxes, confidences, class_labels):\n",
    "    print(f\"Box: {box}\")\n",
    "    print(f\"Confidence: {conf}\")\n",
    "    print(f\"Class Label: {cls}\")\n",
    "    print(\"---\")"
   ]
  },
  {
   "cell_type": "code",
   "execution_count": null,
   "metadata": {},
   "outputs": [],
   "source": []
  }
 ],
 "metadata": {
  "kernelspec": {
   "display_name": "Python 3",
   "language": "python",
   "name": "python3"
  },
  "language_info": {
   "codemirror_mode": {
    "name": "ipython",
    "version": 3
   },
   "file_extension": ".py",
   "mimetype": "text/x-python",
   "name": "python",
   "nbconvert_exporter": "python",
   "pygments_lexer": "ipython3",
   "version": "3.12.1"
  }
 },
 "nbformat": 4,
 "nbformat_minor": 2
}
